{
 "cells": [
  {
   "cell_type": "code",
   "execution_count": 1,
   "metadata": {
    "collapsed": false
   },
   "outputs": [],
   "source": [
    "#IMPORT LIBRARIES\n",
    "import sys\n",
    "import glob\n",
    "import pandas as pd\n",
    "import matplotlib.pyplot as plt, numpy as np\n",
    "from scipy.interpolate import spline\n",
    "from os import path\n",
    "from itertools import *\n",
    "from functools import reduce\n",
    "from __future__ import division"
   ]
  },
  {
   "cell_type": "code",
   "execution_count": 2,
   "metadata": {
    "collapsed": false
   },
   "outputs": [],
   "source": [
    "#Input parameters & list/dictionaries initialization:\n",
    "max_iter = 3 #maximum number of iterations\n",
    "i = 0 #starting number of iteration\n",
    "number_of_files = 3 #number of files in directory\n",
    "width = 2.5 #mm\n",
    "thickness = 0.042 #mm\n",
    "area = width * thickness \n",
    "\n",
    "sourcePath = 'C:\\\\Users\\\\Inance\\\\Documents\\\\Thesis\\\\Experiments\\\\DMTA_Tests\\\\frequency_sweep_warp'\n",
    "list_of_source_files = glob.glob(sourcePath + '/*.TXT')\n",
    "#outpath = 'C:\\\\Users\\\\Inance\\\\Documents\\\\Thesis\\\\BURST\\\\all_inflation_burst_txt\\\\CYCLIC\\\\CYCLIC_FIGURES'\n",
    "\n",
    "frequency = []\n",
    "stored_modulus = []\n",
    "loss_modulus = []\n",
    "tan_delta = [] \n",
    "displacement = []\n",
    "force = []\n",
    "stress = []\n",
    "frequencyList = []\n",
    "stored_modulusList = []\n",
    "frequencyList = np.empty((number_of_files, 0)).tolist() #creates an empty list with a certain number of lists in it.\n",
    "stored_modulusList = np.empty((number_of_files, 0)).tolist() #creates an empty list with a certain number of lists in it."
   ]
  },
  {
   "cell_type": "code",
   "execution_count": 3,
   "metadata": {
    "collapsed": true
   },
   "outputs": [],
   "source": [
    "#Loop through files & save data in list form\n",
    "def GetSourceFiles(list_of_source_files,i):\n",
    "    print('GetSourceFiles')\n",
    "    with open(list_of_source_files[i]) as source_file:\n",
    "        print(\"file entered:\",i+1)\n",
    "        lst = [] \n",
    "        for line in source_file:\n",
    "            lst.append([ float(x) for x in line.split()])\n",
    "        frequency = np.array([ x[0] for x in lst]) #hz\n",
    "        stored_modulus = (np.array([ x[1] for x in lst])) #Pa - E'\n",
    "        loss_modulus = (np.array([ x[2] for x in lst])) #Pa - E\"\n",
    "        tan_delta = np.array([ x[3] for x in lst]) \n",
    "        displacement = np.array([ x[4] for x in lst]) #mm\n",
    "        force = np.array([ x[5] for x in lst]) #g\n",
    "        stress = np.array([ x[6] for x in lst]) #Pa\n",
    "    return frequency,stored_modulus"
   ]
  },
  {
   "cell_type": "code",
   "execution_count": 4,
   "metadata": {
    "collapsed": false
   },
   "outputs": [],
   "source": [
    "#Save the pressures in LISTS:\n",
    "def  SaveInNewList (frequency,stored_modulus,i):\n",
    "    print('SaveInNEWList')\n",
    "    frequencyList[i] = frequency\n",
    "    stored_modulusList[i] = stored_modulus\n",
    "    return frequencyList, stored_modulusList"
   ]
  },
  {
   "cell_type": "code",
   "execution_count": 5,
   "metadata": {
    "collapsed": false
   },
   "outputs": [],
   "source": [
    "#Create Figures\n",
    "def CreateGraphs(frequency_i, stored_modulus_i,i):\n",
    "    labels = ['0C','-30C','30C']\n",
    "    colours = ['r','g','y']\n",
    "    print('CreateGraphs')\n",
    "    axis_font = {'size':'12'} #customize graph\n",
    "    plt.xscale('log')\n",
    "    plt.ylabel(\"Stored Modulus, E' (Pa)\",**axis_font),plt.xlabel(\"Frequency (Hz)\",**axis_font) #name axes\n",
    "    ax.scatter(frequency_i, stored_modulus_i,c=colours[i], label=labels[i]) #create a scatter plot\n",
    "    return"
   ]
  },
  {
   "cell_type": "code",
   "execution_count": 6,
   "metadata": {
    "collapsed": false
   },
   "outputs": [
    {
     "name": "stdout",
     "output_type": "stream",
     "text": [
      "GetSourceFiles\n",
      "file entered: 1\n",
      "length of data =  31 31\n",
      "SaveInNEWList\n",
      "CreateGraphs\n",
      "GetSourceFiles\n",
      "file entered: 2\n",
      "length of data =  31 31\n",
      "SaveInNEWList\n",
      "CreateGraphs\n",
      "GetSourceFiles\n",
      "file entered: 3\n",
      "length of data =  31 31\n",
      "SaveInNEWList\n",
      "CreateGraphs\n"
     ]
    },
    {
     "data": {
      "image/png": "[encoded data removed]",
      "text/plain": [
       "<matplotlib.figure.Figure at 0x25b7c0e9668>"
      ]
     },
     "metadata": {},
     "output_type": "display_data"
    }
   ],
   "source": [
    "#MAIN!!\n",
    "fig, ax = plt.subplots()\n",
    "\n",
    "while (i <= number_of_files and i!=max_iter):\n",
    "    frequency,stored_modulus = GetSourceFiles(list_of_source_files,i) #return pressure and time from specific file\n",
    "    print('length of data = ',len(frequency),len(stored_modulus))\n",
    "    frequencyList, stored_modulusList = SaveInNewList (frequency,stored_modulus,i)\n",
    "    CreateGraphs(frequencyList[i], stored_modulusList[i],i)\n",
    "    i+=1 #increment i to loop\n",
    "#print('frequencyList=',frequencyList)   \n",
    "#print('stored_modulusList=',stored_modulusList )\n",
    "\n",
    "leg = ax.legend(loc=2, bbox_to_anchor=(1.05, 1.0))\n",
    "plt.show() #show graph\n",
    "    #fig.savefig(path.join(outpath,\"dataname_{0}.png\".format(i)))"
   ]
  }
 ],
 "metadata": {
  "anaconda-cloud": {},
  "kernelspec": {
   "display_name": "Python [conda root]",
   "language": "python",
   "name": "conda-root-py"
  },
  "language_info": {
   "codemirror_mode": {
    "name": "ipython",
    "version": 3
   },
   "file_extension": ".py",
   "mimetype": "text/x-python",
   "name": "python",
   "nbconvert_exporter": "python",
   "pygments_lexer": "ipython3",
   "version": "3.5.2"
  }
 },
 "nbformat": 4,
 "nbformat_minor": 1
}
